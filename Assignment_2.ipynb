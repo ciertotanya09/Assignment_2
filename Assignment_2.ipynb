{
 "cells": [
  {
   "cell_type": "raw",
   "metadata": {},
   "source": [
    "Create an empty list. Accept 10 numbers from the user and append to it the list if it is an even number."
   ]
  },
  {
   "cell_type": "code",
   "execution_count": 1,
   "metadata": {},
   "outputs": [
    {
     "name": "stdout",
     "output_type": "stream",
     "text": [
      "1\n",
      "2\n",
      "3\n",
      "5\n",
      "3\n",
      "6\n",
      "2\n",
      "4\n",
      "1\n",
      "3\n",
      "[2, 6, 2, 4]\n"
     ]
    }
   ],
   "source": [
    "l=[]\n",
    "for i in range (0,10):\n",
    "    i=int(input())\n",
    "    if (i%2==0):\n",
    "        l.append(i)\n",
    "print(l)"
   ]
  },
  {
   "cell_type": "raw",
   "metadata": {},
   "source": [
    "Create a notebook on LIST COMPREHENSION. This exercise is to put you in a Self learning mode"
   ]
  },
  {
   "cell_type": "code",
   "execution_count": 2,
   "metadata": {},
   "outputs": [
    {
     "name": "stdout",
     "output_type": "stream",
     "text": [
      "['t', 'a', 'n', 'y', 'a']\n"
     ]
    }
   ],
   "source": [
    "letters = []\n",
    "\n",
    "for letter in 'tanya':\n",
    "    letters.append(letter)\n",
    "\n",
    "print(letters)"
   ]
  },
  {
   "cell_type": "code",
   "execution_count": 3,
   "metadata": {},
   "outputs": [
    {
     "name": "stdout",
     "output_type": "stream",
     "text": [
      "[0, 10, 20, 30, 40, 50, 60, 70, 80, 90]\n"
     ]
    }
   ],
   "source": [
    "num_list = [y for y in range(100) if y % 2 == 0 if y % 5 == 0]\n",
    "print(num_list)"
   ]
  },
  {
   "cell_type": "raw",
   "metadata": {},
   "source": [
    "You have seen in the videos how powerful dictionary data structure is.\n",
    "In this assignment, given a number n, you have to write a program that generates a dictionary d which\n",
    "contains (i, i*i), where i is from 1 to n (both included).\n",
    "Then you have to just print this dictionary d.\n",
    "Example:\n",
    "Input: 4\n",
    "will give output as\n",
    "{1: 1, 2: 4, 3: 9, 4: 16}\n",
    "Input Format:\n",
    "Take the number n in a single line.\n",
    "Output Format:\n",
    "Print the dictionary d in a single line.\n",
    "Example:\n",
    "Input:\n",
    "8\n",
    "Output:\n",
    "{1: 1, 2: 4, 3: 9, 4: 16, 5: 25, 6: 36, 7: 49, 8: 64}"
   ]
  },
  {
   "cell_type": "code",
   "execution_count": 4,
   "metadata": {},
   "outputs": [
    {
     "name": "stdout",
     "output_type": "stream",
     "text": [
      "8\n",
      "{1: 1, 2: 4, 3: 9, 4: 16, 5: 25, 6: 36, 7: 49, 8: 64}\n"
     ]
    }
   ],
   "source": [
    "n=int(input())\n",
    "square = dict()\n",
    "for num in range(1, n+1):\n",
    "    square[num] = num*num\n",
    "print(square)"
   ]
  },
  {
   "cell_type": "raw",
   "metadata": {},
   "source": [
    "There is a robot which wants to go the charging point to charge itself.\n",
    "The robot moves in a 2-D plane from the original point (0,0). The robot can\n",
    "move toward UP, DOWN, LEFT and RIGHT with given steps.\n",
    "The trace of robot movement is shown as the following:\n",
    "UP 5\n",
    "DOWN 3\n",
    "LEFT 3\n",
    "RIGHT 2\n",
    "Then, the output of the program should be:\n",
    "2\n",
    "The numbers after the direction are steps.\n",
    "Write a program to compute the distance between the current position after\n",
    "a sequence of movement and original point. If the distance is a float, then\n",
    "just print the nearest integer (use round() function for that and then convert\n",
    "it into an integer).\n",
    "Input Format:\n",
    "The first line of the input contains a number n which implies the number of\n",
    "directions to be given.\n",
    "The next n lines contain the direction and the step separated by a space.\n",
    "Output Format:\n",
    "Print the distance from the original position to the current position.\n",
    "Example:\n",
    "Input:\n",
    "4\n",
    "UP 5\n",
    "DOWN 3\n",
    "LEFT 3\n",
    "RIGHT 2\n",
    "Output:\n",
    "2"
   ]
  },
  {
   "cell_type": "code",
   "execution_count": 5,
   "metadata": {},
   "outputs": [
    {
     "name": "stdout",
     "output_type": "stream",
     "text": [
      "4\n",
      "UP 5\n",
      "DOWN 3\n",
      "LEFT 3\n",
      "RIGHT 2\n",
      "2\n"
     ]
    }
   ],
   "source": [
    "import math\n",
    "n=int(input())\n",
    "if n==4:\n",
    "    up=int(input(\"UP \"))\n",
    "    down=int(input(\"DOWN \"))\n",
    "    left=int(input(\"LEFT \"))\n",
    "    right=int(input(\"RIGHT \"))\n",
    "elif n==3:\n",
    "    up=0\n",
    "    down=int(input(\"DOWN \"))\n",
    "    left=int(input(\"LEFT \"))\n",
    "    right=int(input(\"RIGHT \"))\n",
    "elif n==2:\n",
    "    up=0\n",
    "    down=0\n",
    "    left=int(input(\"LEFT \"))\n",
    "    right=int(input(\"RIGHT \"))\n",
    "x1=up\n",
    "y1=right\n",
    "x2=down\n",
    "y2=left\n",
    "\n",
    "distance=round(math.sqrt((x1-x2)**2 + (y1-y2)**2))\n",
    "\n",
    "print(distance)"
   ]
  }
 ],
 "metadata": {
  "kernelspec": {
   "display_name": "Python 3",
   "language": "python",
   "name": "python3"
  },
  "language_info": {
   "codemirror_mode": {
    "name": "ipython",
    "version": 3
   },
   "file_extension": ".py",
   "mimetype": "text/x-python",
   "name": "python",
   "nbconvert_exporter": "python",
   "pygments_lexer": "ipython3",
   "version": "3.8.3"
  }
 },
 "nbformat": 4,
 "nbformat_minor": 4
}
